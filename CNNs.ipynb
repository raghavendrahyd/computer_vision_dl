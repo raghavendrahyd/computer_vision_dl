{
 "cells": [
  {
   "cell_type": "markdown",
   "metadata": {},
   "source": [
    "### CNN for images"
   ]
  },
  {
   "cell_type": "markdown",
   "metadata": {},
   "source": [
    "What is convolution?\n",
    "A convolution is a mathematical operation on two functions f and g that produces a third function that expresses how the shape of one is modified by the other. The convolution operation is also known as the sliding dot product or the inner product.\n",
    "\n",
    "In a convolution layer, we slide a filter over the input image and perform element-wise multiplication and summation. The filter is also called a kernel. The filter is a small matrix that is used to extract features from the input image. The filter is usually a square matrix with an odd number of rows and columns. The filter is also called a kernel.\n",
    "\n",
    "Lets look at mathematics of convolution:\n",
    "If the input size is (N, C, H, W) and the filter size is (F, C, HH, WW), then the output size is (N, F, H', W') where H' and W' are given by:\n",
    "\n",
    "H' = 1 + (H + 2P - HH) / S\n",
    "\n",
    "W' = 1 + (W + 2P - WW) / S\n",
    "\n",
    "N is the batch size, C is the number of channels, H is the height of the input, and W is the width of the input. F is the number of filters, HH is the height of the filter, and WW is the width of the filter. P is the padding size, and S is the stride size. Notice that the output size is independent of number of channels in the input image. This is because the filter is applied to each channel independently.\n",
    "\n",
    "Stride is the number of pixels by which the filter is moved right or down at each step. Padding is the number of pixels that are added to the input image on all sides. Padding is usually used to preserve the size of the input image.\n",
    "\n",
    "The number of parameters in a convolution layer is given by:\n",
    "\n",
    "F * C * HH * WW + F\n",
    "\n",
    "F is the number of filters, C is the number of channels, HH is the height of the filter, and WW is the width of the filter. The + F is for the bias term.\n",
    "\n",
    " Each filter actually happens to be a collection of kernels, with there being one kernel for every single input channel to the layer, and each kernel being unique. Each of the per-channel processed versions are then summed together to form one channel. The kernels of a filter each produce one version of each channel, and the filter as a whole produces one overall output channel.\n",
    "\n",
    "The way the bias term works here is that each output filter has one bias term. The bias gets added to the output channel so far to produce the final output channel.\n",
    "\n",
    "Following are the kernels usually used in CNNs :\n",
    "(along with their dimensions, number of parameters, and the number of channels they produce, their usage in table format)\n",
    "\n",
    "- Identity kernel (1x1x1x1, 1 parameter, 1 channel, used for identity mapping):\n",
    "Example of identity kernel:\n",
    "[[[1]]]\n",
    "\n",
    "- Horizontal edge detection kernel (3x3x1x1, 9 parameters, 1 channel, used for edge detection)\n",
    "Example of horizontal edge detection kernel:\n",
    "[[[-1, -2, -1],\n",
    "  [0, 0, 0],\n",
    "  [1, 2, 1]]]\n",
    "\n",
    "- Vertical edge detection kernel (3x3x1x1, 9 parameters, 1 channel, used for edge detection)\n",
    "Example of vertical edge detection kernel:\n",
    "[[[-1, 0, 1],\n",
    "  [-2, 0, 2],\n",
    "  [-1, 0, 1]]]\n",
    "\n",
    "- Edge detection kernels (3x3x1x1, 9 parameters, 1 channel, used for edge detection)\n",
    "Example of edge detection kernels:\n",
    "[[[-1, -1, -1],\n",
    "  [-1, 8, -1],\n",
    "  [-1, -1, -1]]]\n",
    "\n",
    "- Sharpening kernel (3x3x1x1, 9 parameters, 1 channel, used for sharpening)\n",
    "Example of sharpening kernel:\n",
    "[[[0, -1, 0],\n",
    "  [-1, 5, -1],\n",
    "  [0, -1, 0]]]\n",
    "\n",
    "- Smoothing kernel (3x3x1x1, 9 parameters, 1 channel, used for smoothing)\n",
    "Example of smoothing kernel:\n",
    "[[[1/9, 1/9, 1/9],\n",
    "  [1/9, 1/9, 1/9],\n",
    "  [1/9, 1/9, 1/9]]]\n",
    "\n",
    "- Gaussian blur kernel (5x5x1x1, 25 parameters, 1 channel, used for Gaussian blur)\n",
    "Example of Gaussian blur kernel:\n",
    "[[[1/256, 4/256, 6/256, 4/256, 1/256],\n",
    "  [4/256, 16/256, 24/256, 16/256, 4/256],\n",
    "  [6/256, 24/256, 36/256, 24/256, 6/256],\n",
    "  [4/256, 16/256, 24/256, 16/256, 4/256],\n",
    "  [1/256, 4/256, 6/256, 4/256, 1/256]]]\n",
    "\n",
    "- Sobel kernels (3x3x1x2, 18 parameters, 2 channels, used for edge detection)\n",
    "Example of Sobel kernels:\n",
    "Horizontal Sobel kernel:\n",
    "[[[-1, -2, -1],\n",
    "  [0, 0, 0],\n",
    "  [1, 2, 1]]]\n",
    "\n",
    "Vertical Sobel kernel:\n",
    "[[[-1, 0, 1],\n",
    "  [-2, 0, 2],\n",
    "  [-1, 0, 1]]]\n",
    "\n",
    "- Scharr kernels (3x3x1x2, 18 parameters, 2 channels, used for edge detection)\n",
    "Example of Scharr kernels:\n",
    "Horizontal Scharr kernel:\n",
    "[[[-3, -10, -3],\n",
    "  [0, 0, 0],\n",
    "  [3, 10, 3]]]\n",
    "\n",
    "Vertical Scharr kernel:\n",
    "[[[-3, 0, 3],\n",
    "  [-10, 0, 10],\n",
    "  [-3, 0, 3]]]\n",
    "\n",
    "- Prewitt kernels (3x3x1x2, 18 parameters, 2 channels, used for edge detection)\n",
    "Example of Prewitt kernels:\n",
    "Horizontal Prewitt kernel:\n",
    "[[-1, -1, -1],\n",
    "  [0, 0, 0],\n",
    "  [1, 1, 1]]\n",
    "\n",
    "Vertical Prewitt kernel:\n",
    "[[-1, 0, 1],\n",
    "  [-1, 0, 1],\n",
    "  [-1, 0, 1]]\n",
    "\n",
    "- Laplacian of Gaussian kernel (5x5x1x1, 25 parameters, 1 channel, used for edge detection)\n",
    "Example of Laplacian of Gaussian kernel:\n",
    "[[[0, 0, -1, 0, 0],\n",
    "  [0, -1, -2, -1, 0],\n",
    "  [-1, -2, 16, -2, -1],\n",
    "  [0, -1, -2, -1, 0],\n",
    "  [0, 0, -1, 0, 0]]]\n",
    "\n",
    "- Harris corner detection kernel (5x5x1x1, 25 parameters, 1 channel, used for Harris corner detection)\n",
    "Example of Harris corner detection kernel:\n",
    "[[[2, 4, 5, 4, 2],\n",
    "  [4, 9, 12, 9, 4],\n",
    "  [5, 12, 15, 12, 5],\n",
    "  [4, 9, 12, 9, 4],\n",
    "  [2, 4, 5, 4, 2]]]\n",
    "\n",
    "\n",
    "- Canny edge detection kernels (5x5x1x2, 50 parameters, 2 channels, used for Canny edge detection)\n",
    "Example of Canny edge detection kernels:\n",
    "Horizontal Canny edge detection kernel:\n",
    "[[[-1, -2, 0, 2, 1],\n",
    "  [-4, -8, 0, 8, 4],\n",
    "  [-6, -12, 0, 12, 6],\n",
    "  [-4, -8, 0, 8, 4],\n",
    "  [-1, -2, 0, 2, 1]]]"
   ]
  },
  {
   "cell_type": "code",
   "execution_count": 29,
   "metadata": {},
   "outputs": [],
   "source": [
    "import torch\n",
    "import torch.nn as nn\n",
    "import torch.nn.functional as F\n",
    "from torch.utils.data import Dataset, DataLoader\n",
    "import torchvision\n",
    "import torch.autograd as autograd\n",
    "import torchtext\n",
    "import torchvision.transforms as transforms\n",
    "import torchdata.datapipes as dp\n",
    "from torchdata.datapipes.iter import IterableWrapper, IterDataPipe\n",
    "import torch.optim as optim\n",
    "from torchinfo import summary\n",
    "import tqdm\n",
    "import numpy as np\n",
    "import matplotlib.pyplot as plt\n",
    "import copy"
   ]
  },
  {
   "cell_type": "code",
   "execution_count": 21,
   "metadata": {},
   "outputs": [
    {
     "data": {
      "text/plain": [
       "device(type='mps')"
      ]
     },
     "execution_count": 21,
     "metadata": {},
     "output_type": "execute_result"
    }
   ],
   "source": [
    "device = torch.device(\"cuda\" if torch.cuda.is_available() else \"mps\" if torch.has_mps else \"cpu\")\n",
    "# device = torch.device(\"cpu\")\n",
    "device"
   ]
  },
  {
   "cell_type": "code",
   "execution_count": 3,
   "metadata": {},
   "outputs": [],
   "source": [
    "# import MNIST dataset\n",
    "train_dataset = torchvision.datasets.MNIST(root='../../../pytorch_learning/data',\n",
    "                                            train=True,\n",
    "                                            transform=torchvision.transforms.ToTensor(),\n",
    "                                            download=False)\n",
    "\n",
    "test_dataset = torchvision.datasets.MNIST(root='../../../pytorch_learning/data',\n",
    "                                            train=False,\n",
    "                                            transform=torchvision.transforms.ToTensor(),\n",
    "                                            download=False)                                            \n"
   ]
  },
  {
   "cell_type": "code",
   "execution_count": 4,
   "metadata": {},
   "outputs": [],
   "source": [
    "# Build a data loader. Push the data to the GPU\n",
    "\n",
    "train_loader = DataLoader(dataset=train_dataset,\n",
    "                            batch_size=64,  # batch size\n",
    "                            shuffle=True)  # shuffle the data\n",
    "\n",
    "test_loader = DataLoader(dataset=test_dataset,\n",
    "                            batch_size=64,  # batch size\n",
    "                            shuffle=False)  # shuffle the data"
   ]
  },
  {
   "cell_type": "markdown",
   "metadata": {},
   "source": [
    "##### Training, Validation functions\n"
   ]
  },
  {
   "cell_type": "code",
   "execution_count": 6,
   "metadata": {},
   "outputs": [],
   "source": [
    "# function for training one epoch\n",
    "\n",
    "def train_one_epoch(net, train_loader, criterion, optimizer):\n",
    "    \"\"\"\n",
    "    Train the network for one epoch on device\n",
    "    Prints the loss as well as  accuracy every 50 batches\n",
    "    returns total loss and accuracy\n",
    "    \"\"\"\n",
    "    net.train()\n",
    "    total_loss = 0\n",
    "    correct = 0\n",
    "    for batch_idx, (data, target) in enumerate(train_loader):\n",
    "        data, target = data.to(device = device), target.to(device= device)\n",
    "        output = net(data).to(device = device)\n",
    "        loss = criterion(output, target)\n",
    "        optimizer.zero_grad()\n",
    "        loss.backward()\n",
    "        optimizer.step()\n",
    "        total_loss += loss.item()\n",
    "        correct_batch = torch.sum(torch.max(output, 1)[1] == target).item()\n",
    "        correct += correct_batch\n",
    "        if batch_idx % 300 == 0:\n",
    "            print('Train batch: {} [{}/{} ({:.0f}%)]\\tLoss: {:.6f} \\taccuracy {}/{} ({:.0f}%)'.format(\n",
    "                batch_idx, batch_idx * len(data), len(train_loader.dataset),\n",
    "                100. * batch_idx / len(train_loader), loss.item(),\n",
    "                correct_batch, len(data),\n",
    "                100. * correct_batch / (len(data))))\n",
    "    total_loss /= len(train_loader.dataset)\n",
    "    print('Train Average loss: {:.4f}, Accuracy: {}/{} ({:.0f}%)\\n'.format( total_loss, correct, len(train_loader.dataset),\n",
    "                100. * correct / len(train_loader.dataset)))\n",
    "    return total_loss, correct / len(train_loader.dataset)\n",
    "\n",
    "\n",
    "# validation function\n",
    "def validate(net, val_loader, criterion):\n",
    "    \"\"\"\n",
    "    Validate the network\n",
    "    Prints the loss as well as  accuracy.\n",
    "    Returns total loss and accuracy\n",
    "    \"\"\"\n",
    "    net.eval()\n",
    "    total_loss = 0\n",
    "    correct = 0\n",
    "    with torch.no_grad():\n",
    "        for data, target in val_loader:\n",
    "            data, target = data.to(device), target.to(device)\n",
    "            output = net(data).to(device)\n",
    "            total_loss += criterion(output, target).item()  # sum up batch loss\n",
    "            correct += torch.sum(torch.max(output, 1)[1] == target).item()\n",
    "    total_loss /= len(val_loader.dataset)\n",
    "    print('Validation Average loss: {:.4f}, Accuracy: {}/{} ({:.0f}%)\\n'.format( total_loss, correct, len(val_loader.dataset),100. * correct / len(val_loader.dataset)))\n",
    "    return total_loss, correct/len(val_loader.dataset)"
   ]
  },
  {
   "cell_type": "code",
   "execution_count": 7,
   "metadata": {},
   "outputs": [],
   "source": [
    "# function to train the network for n epochs and validate after each epoch\n",
    "\n",
    "def train(net, train_loader, val_loader, criterion, optimizer, n_epochs):\n",
    "    \"\"\"\n",
    "    Train the network for n epochs and validate after each epoch.\n",
    "    Store the loss and accuracy for each epoch and return them\n",
    "    \"\"\"\n",
    "    # print the device used as well as specifications of the device\n",
    "    print('Training on device: {}'.format(device))\n",
    "    print('Training for {} epochs'.format(n_epochs))\n",
    "\n",
    "    train_loss = []\n",
    "    train_acc = []\n",
    "    val_loss = []\n",
    "    val_acc = []\n",
    "    for epoch in range(n_epochs):\n",
    "        print('Epoch {}/{}'.format(epoch, n_epochs - 1))\n",
    "        print('-' * 10)\n",
    "        epoch_train_loss,epoch_acc = train_one_epoch(net, train_loader, criterion, optimizer)\n",
    "        train_loss.append(epoch_train_loss)\n",
    "        train_acc.append(epoch_acc)\n",
    "        epoch_val_loss,epoch_val_acc = validate(net, val_loader, criterion)\n",
    "        val_loss.append(epoch_val_loss)\n",
    "        val_acc.append(epoch_val_acc)\n",
    "        print()\n",
    "    return train_loss, train_acc, val_loss, val_acc"
   ]
  },
  {
   "cell_type": "markdown",
   "metadata": {},
   "source": [
    "#### i. Linear models"
   ]
  },
  {
   "cell_type": "code",
   "execution_count": 32,
   "metadata": {},
   "outputs": [],
   "source": [
    "class LinearNet1(nn.Module):\n",
    "    def __init__(self, num_classes):\n",
    "        super(LinearNet1, self).__init__()\n",
    "        # and our second linear layer takes 50 to the num_classes\n",
    "        # flatten layer to flatten the input from 28x28 to 784\n",
    "        self.flatten = nn.Flatten()\n",
    "        self.fc1 = nn.Linear(784, 50)\n",
    "        self.fc2 = nn.Linear(50, num_classes)\n",
    "\n",
    "    def forward(self, x):\n",
    "        x = self.flatten(x)\n",
    "        x = F.relu(self.fc1(x))\n",
    "        x = self.fc2(x)\n",
    "        # We don't apply softmax here because it is included in the loss function nn.CrossEntropyLoss()\n",
    "        return x # outputs are logits (not probabilities). Dimension: batch_size x num_classes\n",
    "\n",
    "model = LinearNet1(num_classes=10).to(device)\n",
    "\n",
    "#summary(model, input_size=(1,1, 28, 28))"
   ]
  },
  {
   "cell_type": "code",
   "execution_count": 33,
   "metadata": {},
   "outputs": [
    {
     "data": {
      "text/plain": [
       "==========================================================================================\n",
       "Layer (type:depth-idx)                   Output Shape              Param #\n",
       "==========================================================================================\n",
       "LinearNet1                               [1, 10]                   --\n",
       "├─Flatten: 1-1                           [1, 784]                  --\n",
       "├─Linear: 1-2                            [1, 50]                   39,250\n",
       "├─Linear: 1-3                            [1, 10]                   510\n",
       "==========================================================================================\n",
       "Total params: 39,760\n",
       "Trainable params: 39,760\n",
       "Non-trainable params: 0\n",
       "Total mult-adds (M): 0.04\n",
       "==========================================================================================\n",
       "Input size (MB): 0.00\n",
       "Forward/backward pass size (MB): 0.00\n",
       "Params size (MB): 0.16\n",
       "Estimated Total Size (MB): 0.16\n",
       "=========================================================================================="
      ]
     },
     "execution_count": 33,
     "metadata": {},
     "output_type": "execute_result"
    }
   ],
   "source": [
    "summary(copy.deepcopy(model), input_size=(1, 28, 28))"
   ]
  },
  {
   "cell_type": "code",
   "execution_count": 34,
   "metadata": {},
   "outputs": [
    {
     "name": "stdout",
     "output_type": "stream",
     "text": [
      "Training on device: mps\n",
      "Training for 5 epochs\n",
      "Epoch 0/4\n",
      "----------\n",
      "Train batch: 0 [0/60000 (0%)]\tLoss: 2.306701 \taccuracy 5/64 (8%)\n",
      "Train batch: 300 [19200/60000 (32%)]\tLoss: 0.242516 \taccuracy 59/64 (92%)\n",
      "Train batch: 600 [38400/60000 (64%)]\tLoss: 0.371653 \taccuracy 57/64 (89%)\n",
      "Train batch: 900 [57600/60000 (96%)]\tLoss: 0.211883 \taccuracy 59/64 (92%)\n",
      "Train Average loss: 0.0066, Accuracy: 53404/60000 (89%)\n",
      "\n",
      "Validation Average loss: 0.0038, Accuracy: 9306/10000 (93%)\n",
      "\n",
      "\n",
      "Epoch 1/4\n",
      "----------\n",
      "Train batch: 0 [0/60000 (0%)]\tLoss: 0.182664 \taccuracy 60/64 (94%)\n",
      "Train batch: 300 [19200/60000 (32%)]\tLoss: 0.157867 \taccuracy 61/64 (95%)\n",
      "Train batch: 600 [38400/60000 (64%)]\tLoss: 0.114002 \taccuracy 62/64 (97%)\n",
      "Train batch: 900 [57600/60000 (96%)]\tLoss: 0.137767 \taccuracy 61/64 (95%)\n",
      "Train Average loss: 0.0032, Accuracy: 56533/60000 (94%)\n",
      "\n",
      "Validation Average loss: 0.0028, Accuracy: 9480/10000 (95%)\n",
      "\n",
      "\n",
      "Epoch 2/4\n",
      "----------\n",
      "Train batch: 0 [0/60000 (0%)]\tLoss: 0.136377 \taccuracy 61/64 (95%)\n",
      "Train batch: 300 [19200/60000 (32%)]\tLoss: 0.144566 \taccuracy 62/64 (97%)\n",
      "Train batch: 600 [38400/60000 (64%)]\tLoss: 0.389775 \taccuracy 59/64 (92%)\n",
      "Train batch: 900 [57600/60000 (96%)]\tLoss: 0.045107 \taccuracy 64/64 (100%)\n",
      "Train Average loss: 0.0025, Accuracy: 57272/60000 (95%)\n",
      "\n",
      "Validation Average loss: 0.0023, Accuracy: 9576/10000 (96%)\n",
      "\n",
      "\n",
      "Epoch 3/4\n",
      "----------\n",
      "Train batch: 0 [0/60000 (0%)]\tLoss: 0.201255 \taccuracy 60/64 (94%)\n",
      "Train batch: 300 [19200/60000 (32%)]\tLoss: 0.222389 \taccuracy 62/64 (97%)\n",
      "Train batch: 600 [38400/60000 (64%)]\tLoss: 0.193448 \taccuracy 59/64 (92%)\n",
      "Train batch: 900 [57600/60000 (96%)]\tLoss: 0.169873 \taccuracy 58/64 (91%)\n",
      "Train Average loss: 0.0021, Accuracy: 57748/60000 (96%)\n",
      "\n",
      "Validation Average loss: 0.0022, Accuracy: 9584/10000 (96%)\n",
      "\n",
      "\n",
      "Epoch 4/4\n",
      "----------\n",
      "Train batch: 0 [0/60000 (0%)]\tLoss: 0.098916 \taccuracy 63/64 (98%)\n",
      "Train batch: 300 [19200/60000 (32%)]\tLoss: 0.164714 \taccuracy 59/64 (92%)\n",
      "Train batch: 600 [38400/60000 (64%)]\tLoss: 0.043893 \taccuracy 64/64 (100%)\n",
      "Train batch: 900 [57600/60000 (96%)]\tLoss: 0.089718 \taccuracy 62/64 (97%)\n",
      "Train Average loss: 0.0018, Accuracy: 58067/60000 (97%)\n",
      "\n",
      "Validation Average loss: 0.0019, Accuracy: 9619/10000 (96%)\n",
      "\n",
      "\n"
     ]
    }
   ],
   "source": [
    "num_epochs = 5\n",
    "\n",
    "# Loss and optimizer\n",
    "criterion = nn.CrossEntropyLoss() # This already applies softmax\n",
    "optimizer = optim.Adam(model.parameters(), lr=0.001)\n",
    "\n",
    "# train the network\n",
    "train_loss, train_acc, val_loss, val_acc = train(model, train_loader, test_loader, criterion, optimizer, num_epochs)"
   ]
  },
  {
   "cell_type": "code",
   "execution_count": 10,
   "metadata": {},
   "outputs": [
    {
     "data": {
      "text/plain": [
       "<matplotlib.legend.Legend at 0x7f926b94f5e0>"
      ]
     },
     "execution_count": 10,
     "metadata": {},
     "output_type": "execute_result"
    },
    {
     "data": {
      "image/png": "[encoded data removed]",
      "text/plain": [
       "<Figure size 1500x500 with 2 Axes>"
      ]
     },
     "metadata": {},
     "output_type": "display_data"
    }
   ],
   "source": [
    "# plot the loss and accuracy curves as subplots\n",
    "fig, (ax1, ax2) = plt.subplots(1, 2, figsize=(15,5))\n",
    "ax1.plot(train_loss, label='train')\n",
    "ax1.plot(val_loss, label='validation')\n",
    "ax1.set_title('Loss')\n",
    "ax1.legend()\n",
    "\n",
    "ax2.plot(train_acc, label='train')\n",
    "ax2.plot(val_acc, label='validation')\n",
    "ax2.set_title('Accuracy')\n",
    "ax2.legend()"
   ]
  },
  {
   "cell_type": "code",
   "execution_count": 35,
   "metadata": {},
   "outputs": [],
   "source": [
    "# model 2\n",
    "\n",
    "class LinearNet2(nn.Module):\n",
    "    def __init__(self):\n",
    "        super(LinearNet2, self).__init__()\n",
    "        self.flatten = nn.Flatten()\n",
    "        self.fc = nn.Linear(784, 10)\n",
    "        self.log_softmax = nn.LogSoftmax(dim=1)\n",
    "        # log softmax is used because it is numerically more stable than softmax. \n",
    "        # Softmax implementation is not stable for large values\n",
    "        \n",
    "    def forward(self, x):\n",
    "        x = self.flatten(x)\n",
    "        x = self.fc(x)\n",
    "        x = self.log_softmax(x)\n",
    "        return x # outputs are log softmax (not probabilities). Dimension: batch_size x num_classes\n",
    "\n",
    "model = LinearNet2().to(device)\n",
    "\n",
    "#summary(model, input_size=(1,1, 28, 28))"
   ]
  },
  {
   "cell_type": "code",
   "execution_count": 38,
   "metadata": {},
   "outputs": [
    {
     "data": {
      "text/plain": [
       "==========================================================================================\n",
       "Layer (type:depth-idx)                   Output Shape              Param #\n",
       "==========================================================================================\n",
       "LinearNet2                               [1, 10]                   --\n",
       "├─Flatten: 1-1                           [1, 784]                  --\n",
       "├─Linear: 1-2                            [1, 10]                   7,850\n",
       "├─LogSoftmax: 1-3                        [1, 10]                   --\n",
       "==========================================================================================\n",
       "Total params: 7,850\n",
       "Trainable params: 7,850\n",
       "Non-trainable params: 0\n",
       "Total mult-adds (M): 0.01\n",
       "==========================================================================================\n",
       "Input size (MB): 0.00\n",
       "Forward/backward pass size (MB): 0.00\n",
       "Params size (MB): 0.03\n",
       "Estimated Total Size (MB): 0.03\n",
       "=========================================================================================="
      ]
     },
     "execution_count": 38,
     "metadata": {},
     "output_type": "execute_result"
    }
   ],
   "source": [
    "summary(copy.deepcopy(model), input_size=(1, 28, 28))"
   ]
  },
  {
   "cell_type": "code",
   "execution_count": 37,
   "metadata": {},
   "outputs": [
    {
     "name": "stdout",
     "output_type": "stream",
     "text": [
      "Training on device: mps\n",
      "Training for 5 epochs\n",
      "Epoch 0/4\n",
      "----------\n",
      "Train batch: 0 [0/60000 (0%)]\tLoss: 2.320020 \taccuracy 8/64 (12%)\n",
      "Train batch: 300 [19200/60000 (32%)]\tLoss: 0.496063 \taccuracy 53/64 (83%)\n",
      "Train batch: 600 [38400/60000 (64%)]\tLoss: 0.429224 \taccuracy 55/64 (86%)\n",
      "Train batch: 900 [57600/60000 (96%)]\tLoss: 0.333491 \taccuracy 56/64 (88%)\n",
      "Train Average loss: 0.0085, Accuracy: 52158/60000 (87%)\n",
      "\n",
      "Validation Average loss: 0.0052, Accuracy: 9113/10000 (91%)\n",
      "\n",
      "\n",
      "Epoch 1/4\n",
      "----------\n",
      "Train batch: 0 [0/60000 (0%)]\tLoss: 0.356039 \taccuracy 58/64 (91%)\n",
      "Train batch: 300 [19200/60000 (32%)]\tLoss: 0.244246 \taccuracy 59/64 (92%)\n",
      "Train batch: 600 [38400/60000 (64%)]\tLoss: 0.310601 \taccuracy 55/64 (86%)\n",
      "Train batch: 900 [57600/60000 (96%)]\tLoss: 0.243839 \taccuracy 61/64 (95%)\n",
      "Train Average loss: 0.0050, Accuracy: 54680/60000 (91%)\n",
      "\n",
      "Validation Average loss: 0.0046, Accuracy: 9173/10000 (92%)\n",
      "\n",
      "\n",
      "Epoch 2/4\n",
      "----------\n",
      "Train batch: 0 [0/60000 (0%)]\tLoss: 0.246904 \taccuracy 59/64 (92%)\n",
      "Train batch: 300 [19200/60000 (32%)]\tLoss: 0.204619 \taccuracy 59/64 (92%)\n",
      "Train batch: 600 [38400/60000 (64%)]\tLoss: 0.299778 \taccuracy 60/64 (94%)\n",
      "Train batch: 900 [57600/60000 (96%)]\tLoss: 0.260020 \taccuracy 59/64 (92%)\n",
      "Train Average loss: 0.0046, Accuracy: 55034/60000 (92%)\n",
      "\n",
      "Validation Average loss: 0.0044, Accuracy: 9237/10000 (92%)\n",
      "\n",
      "\n",
      "Epoch 3/4\n",
      "----------\n",
      "Train batch: 0 [0/60000 (0%)]\tLoss: 0.264105 \taccuracy 58/64 (91%)\n",
      "Train batch: 300 [19200/60000 (32%)]\tLoss: 0.191833 \taccuracy 60/64 (94%)\n",
      "Train batch: 600 [38400/60000 (64%)]\tLoss: 0.222455 \taccuracy 60/64 (94%)\n",
      "Train batch: 900 [57600/60000 (96%)]\tLoss: 0.436824 \taccuracy 58/64 (91%)\n",
      "Train Average loss: 0.0044, Accuracy: 55294/60000 (92%)\n",
      "\n",
      "Validation Average loss: 0.0043, Accuracy: 9215/10000 (92%)\n",
      "\n",
      "\n",
      "Epoch 4/4\n",
      "----------\n",
      "Train batch: 0 [0/60000 (0%)]\tLoss: 0.295187 \taccuracy 59/64 (92%)\n",
      "Train batch: 300 [19200/60000 (32%)]\tLoss: 0.253003 \taccuracy 60/64 (94%)\n",
      "Train batch: 600 [38400/60000 (64%)]\tLoss: 0.577918 \taccuracy 55/64 (86%)\n",
      "Train batch: 900 [57600/60000 (96%)]\tLoss: 0.181105 \taccuracy 59/64 (92%)\n",
      "Train Average loss: 0.0043, Accuracy: 55372/60000 (92%)\n",
      "\n",
      "Validation Average loss: 0.0042, Accuracy: 9251/10000 (93%)\n",
      "\n",
      "\n"
     ]
    }
   ],
   "source": [
    "num_epochs = 5\n",
    "\n",
    "# Loss and optimizer\n",
    "criterion = nn.NLLLoss() # since we are using log_softmax\n",
    "optimizer = optim.Adam(model.parameters(), lr=0.001)\n",
    "\n",
    "# train the network\n",
    "train_loss, train_acc, val_loss, val_acc = train(model, train_loader, test_loader, criterion, optimizer, num_epochs)"
   ]
  },
  {
   "cell_type": "code",
   "execution_count": 39,
   "metadata": {},
   "outputs": [
    {
     "data": {
      "text/plain": [
       "<matplotlib.legend.Legend at 0x7f92598dc7c0>"
      ]
     },
     "execution_count": 39,
     "metadata": {},
     "output_type": "execute_result"
    },
    {
     "data": {
      "image/png": "[encoded data removed]",
      "text/plain": [
       "<Figure size 1500x500 with 2 Axes>"
      ]
     },
     "metadata": {},
     "output_type": "display_data"
    }
   ],
   "source": [
    "# plot the loss and accuracy curves as subplots\n",
    "fig, (ax1, ax2) = plt.subplots(1, 2, figsize=(15,5))\n",
    "ax1.plot(train_loss, label='train')\n",
    "ax1.plot(val_loss, label='validation')\n",
    "ax1.set_title('Loss')\n",
    "ax1.legend()\n",
    "\n",
    "ax2.plot(train_acc, label='train')\n",
    "ax2.plot(val_acc, label='validation')\n",
    "ax2.set_title('Accuracy')\n",
    "ax2.legend()"
   ]
  },
  {
   "cell_type": "markdown",
   "metadata": {},
   "source": [
    "#### ii. Simple CNN model"
   ]
  },
  {
   "cell_type": "code",
   "execution_count": 40,
   "metadata": {},
   "outputs": [],
   "source": [
    "class OneConv(nn.Module):\n",
    "    \"\"\" \n",
    "    A simple convolutional neural network with one convolutional layer\n",
    "    \"\"\"\n",
    "    def __init__(self):\n",
    "        super(OneConv, self).__init__()\n",
    "        self.conv = nn.Conv2d(in_channels=1,out_channels=9,kernel_size=(5,5)) # by default stride=1, padding=0\n",
    "        self.flatten = nn.Flatten()\n",
    "        self.fc = nn.Linear(5184,10)\n",
    "\n",
    "    def forward(self, x):\n",
    "        x = nn.functional.relu(self.conv(x))\n",
    "        x = self.flatten(x)\n",
    "        x = nn.functional.log_softmax(self.fc(x),dim=1)\n",
    "        return x\n",
    "\n",
    "model = OneConv().to(device)"
   ]
  },
  {
   "cell_type": "code",
   "execution_count": 42,
   "metadata": {},
   "outputs": [
    {
     "data": {
      "text/plain": [
       "==========================================================================================\n",
       "Layer (type:depth-idx)                   Output Shape              Param #\n",
       "==========================================================================================\n",
       "OneConv                                  [1, 10]                   --\n",
       "├─Conv2d: 1-1                            [1, 9, 24, 24]            234\n",
       "├─Flatten: 1-2                           [1, 5184]                 --\n",
       "├─Linear: 1-3                            [1, 10]                   51,850\n",
       "==========================================================================================\n",
       "Total params: 52,084\n",
       "Trainable params: 52,084\n",
       "Non-trainable params: 0\n",
       "Total mult-adds (M): 0.19\n",
       "==========================================================================================\n",
       "Input size (MB): 0.00\n",
       "Forward/backward pass size (MB): 0.04\n",
       "Params size (MB): 0.21\n",
       "Estimated Total Size (MB): 0.25\n",
       "=========================================================================================="
      ]
     },
     "execution_count": 42,
     "metadata": {},
     "output_type": "execute_result"
    }
   ],
   "source": [
    "summary(copy.deepcopy(model), input_size=(1, 1, 28, 28))"
   ]
  },
  {
   "cell_type": "markdown",
   "metadata": {},
   "source": [
    "- in_channels - number of input channels. In our case we are dealing with a grayscale image, thus number of input channels is 1. Color image has 3 channels (RGB).\n",
    "- out_channels - number of filters to use. We will use 9 different filters, which will give the network plenty of opportunities to explore which filters work best for our scenario.\n",
    "- kernel_size is the size of the sliding window. Usually 3x3 or 5x5 filters are used. The choice of filter size is usually chosen by experiment, that is by trying out different filter sizes and comparing resulting accuracy."
   ]
  },
  {
   "cell_type": "code",
   "execution_count": 44,
   "metadata": {},
   "outputs": [
    {
     "name": "stdout",
     "output_type": "stream",
     "text": [
      "24.0\n",
      "234\n",
      "5184\n"
     ]
    }
   ],
   "source": [
    "# number of parameters verification \n",
    "\n",
    "# output size = (input_size - kernel_size + 2*padding)/stride + 1\n",
    "print((28-5+2*0)/1 + 1)\n",
    "\n",
    "# 9 filters of size 5x5 + 9 bias terms on 1 channel\n",
    "print(9*1*5*5+9)\n",
    "\n",
    "# 5184 = 9*24*24\n",
    "print(9*24*24)"
   ]
  },
  {
   "cell_type": "code",
   "execution_count": 43,
   "metadata": {},
   "outputs": [
    {
     "name": "stdout",
     "output_type": "stream",
     "text": [
      "Training on device: mps\n",
      "Training for 5 epochs\n",
      "Epoch 0/4\n",
      "----------\n",
      "Train batch: 0 [0/60000 (0%)]\tLoss: 2.290134 \taccuracy 11/64 (17%)\n",
      "Train batch: 300 [19200/60000 (32%)]\tLoss: 0.179103 \taccuracy 61/64 (95%)\n",
      "Train batch: 600 [38400/60000 (64%)]\tLoss: 0.256708 \taccuracy 59/64 (92%)\n",
      "Train batch: 900 [57600/60000 (96%)]\tLoss: 0.145511 \taccuracy 61/64 (95%)\n",
      "Train Average loss: 0.0043, Accuracy: 55184/60000 (92%)\n",
      "\n",
      "Validation Average loss: 0.0017, Accuracy: 9695/10000 (97%)\n",
      "\n",
      "\n",
      "Epoch 1/4\n",
      "----------\n",
      "Train batch: 0 [0/60000 (0%)]\tLoss: 0.064660 \taccuracy 62/64 (97%)\n",
      "Train batch: 300 [19200/60000 (32%)]\tLoss: 0.096936 \taccuracy 62/64 (97%)\n",
      "Train batch: 600 [38400/60000 (64%)]\tLoss: 0.061917 \taccuracy 63/64 (98%)\n",
      "Train batch: 900 [57600/60000 (96%)]\tLoss: 0.043756 \taccuracy 63/64 (98%)\n",
      "Train Average loss: 0.0015, Accuracy: 58418/60000 (97%)\n",
      "\n",
      "Validation Average loss: 0.0011, Accuracy: 9773/10000 (98%)\n",
      "\n",
      "\n",
      "Epoch 2/4\n",
      "----------\n",
      "Train batch: 0 [0/60000 (0%)]\tLoss: 0.061135 \taccuracy 62/64 (97%)\n",
      "Train batch: 300 [19200/60000 (32%)]\tLoss: 0.035573 \taccuracy 63/64 (98%)\n",
      "Train batch: 600 [38400/60000 (64%)]\tLoss: 0.066267 \taccuracy 63/64 (98%)\n",
      "Train batch: 900 [57600/60000 (96%)]\tLoss: 0.033822 \taccuracy 64/64 (100%)\n",
      "Train Average loss: 0.0010, Accuracy: 58834/60000 (98%)\n",
      "\n",
      "Validation Average loss: 0.0009, Accuracy: 9813/10000 (98%)\n",
      "\n",
      "\n",
      "Epoch 3/4\n",
      "----------\n",
      "Train batch: 0 [0/60000 (0%)]\tLoss: 0.019658 \taccuracy 64/64 (100%)\n",
      "Train batch: 300 [19200/60000 (32%)]\tLoss: 0.123827 \taccuracy 63/64 (98%)\n",
      "Train batch: 600 [38400/60000 (64%)]\tLoss: 0.029450 \taccuracy 63/64 (98%)\n",
      "Train batch: 900 [57600/60000 (96%)]\tLoss: 0.095004 \taccuracy 61/64 (95%)\n",
      "Train Average loss: 0.0008, Accuracy: 59040/60000 (98%)\n",
      "\n",
      "Validation Average loss: 0.0009, Accuracy: 9822/10000 (98%)\n",
      "\n",
      "\n",
      "Epoch 4/4\n",
      "----------\n",
      "Train batch: 0 [0/60000 (0%)]\tLoss: 0.009036 \taccuracy 64/64 (100%)\n",
      "Train batch: 300 [19200/60000 (32%)]\tLoss: 0.010130 \taccuracy 64/64 (100%)\n",
      "Train batch: 600 [38400/60000 (64%)]\tLoss: 0.032103 \taccuracy 63/64 (98%)\n",
      "Train batch: 900 [57600/60000 (96%)]\tLoss: 0.038399 \taccuracy 63/64 (98%)\n",
      "Train Average loss: 0.0007, Accuracy: 59154/60000 (99%)\n",
      "\n",
      "Validation Average loss: 0.0010, Accuracy: 9804/10000 (98%)\n",
      "\n",
      "\n"
     ]
    }
   ],
   "source": [
    "num_epochs = 5\n",
    "\n",
    "# Loss and optimizer\n",
    "criterion = nn.NLLLoss() # since we are using log_softmax\n",
    "optimizer = optim.Adam(model.parameters(), lr=0.001)\n",
    "\n",
    "# train the network\n",
    "train_loss, train_acc, val_loss, val_acc = train(model, train_loader, test_loader, criterion, optimizer, num_epochs)"
   ]
  },
  {
   "cell_type": "code",
   "execution_count": 48,
   "metadata": {},
   "outputs": [],
   "source": [
    "class CNN2(nn.Module):\n",
    "    def __init__(self, in_channels=1, num_classes=10):\n",
    "        super(CNN2, self).__init__()\n",
    "        self.conv1 = nn.Conv2d(\n",
    "            in_channels=in_channels,\n",
    "            out_channels=8,\n",
    "            kernel_size=3,\n",
    "            stride=1,\n",
    "            padding=1,\n",
    "        )\n",
    "        self.pool = nn.MaxPool2d(kernel_size=2, stride=2) # Max pooling over a (2, 2) window\n",
    "        self.conv2 = nn.Conv2d(\n",
    "            in_channels=8,\n",
    "            out_channels=16,\n",
    "            kernel_size=3,\n",
    "            stride=1,\n",
    "            padding=1,\n",
    "        )\n",
    "        self.fc1 = nn.Linear(16 * 7 * 7, num_classes)\n",
    "\n",
    "    def forward(self, x):\n",
    "        x = F.relu(self.conv1(x))\n",
    "        x = self.pool(x)\n",
    "        x = F.relu(self.conv2(x))\n",
    "        x = self.pool(x)\n",
    "        x = x.reshape(x.shape[0], -1)\n",
    "        x = self.fc1(x)\n",
    "        return x\n",
    "\n",
    "model = CNN2().to(device)"
   ]
  },
  {
   "cell_type": "code",
   "execution_count": 49,
   "metadata": {},
   "outputs": [
    {
     "name": "stderr",
     "output_type": "stream",
     "text": [
      "/Users/raghavendrakommavarapu/opt/anaconda3/envs/torch_2_env/lib/python3.10/site-packages/torchinfo/torchinfo.py:477: UserWarning: TypedStorage is deprecated. It will be removed in the future and UntypedStorage will be the only storage class. This should only matter to you if you are using storages directly.  To access UntypedStorage directly, use tensor.untyped_storage() instead of tensor.storage()\n",
      "  action_fn=lambda data: sys.getsizeof(data.storage()),\n",
      "/Users/raghavendrakommavarapu/opt/anaconda3/envs/torch_2_env/lib/python3.10/site-packages/torch/storage.py:665: UserWarning: TypedStorage is deprecated. It will be removed in the future and UntypedStorage will be the only storage class. This should only matter to you if you are using storages directly.  To access UntypedStorage directly, use tensor.untyped_storage() instead of tensor.storage()\n",
      "  return super().__sizeof__() + self.nbytes()\n"
     ]
    },
    {
     "data": {
      "text/plain": [
       "==========================================================================================\n",
       "Layer (type:depth-idx)                   Output Shape              Param #\n",
       "==========================================================================================\n",
       "CNN2                                     [1, 10]                   --\n",
       "├─Conv2d: 1-1                            [1, 8, 28, 28]            80\n",
       "├─MaxPool2d: 1-2                         [1, 8, 14, 14]            --\n",
       "├─Conv2d: 1-3                            [1, 16, 14, 14]           1,168\n",
       "├─MaxPool2d: 1-4                         [1, 16, 7, 7]             --\n",
       "├─Linear: 1-5                            [1, 10]                   7,850\n",
       "==========================================================================================\n",
       "Total params: 9,098\n",
       "Trainable params: 9,098\n",
       "Non-trainable params: 0\n",
       "Total mult-adds (M): 0.30\n",
       "==========================================================================================\n",
       "Input size (MB): 0.00\n",
       "Forward/backward pass size (MB): 0.08\n",
       "Params size (MB): 0.04\n",
       "Estimated Total Size (MB): 0.11\n",
       "=========================================================================================="
      ]
     },
     "execution_count": 49,
     "metadata": {},
     "output_type": "execute_result"
    }
   ],
   "source": [
    "summary(copy.deepcopy(model), input_size=(1, 1, 28, 28))"
   ]
  },
  {
   "cell_type": "code",
   "execution_count": 50,
   "metadata": {},
   "outputs": [
    {
     "name": "stdout",
     "output_type": "stream",
     "text": [
      "Training on device: mps\n",
      "Training for 5 epochs\n",
      "Epoch 0/4\n",
      "----------\n",
      "Train batch: 0 [0/60000 (0%)]\tLoss: -0.011680 \taccuracy 10/64 (16%)\n",
      "Train batch: 300 [19200/60000 (32%)]\tLoss: -27001.886719 \taccuracy 6/64 (9%)\n",
      "Train batch: 600 [38400/60000 (64%)]\tLoss: -270888.187500 \taccuracy 6/64 (9%)\n",
      "Train batch: 900 [57600/60000 (96%)]\tLoss: -936250.250000 \taccuracy 8/64 (12%)\n",
      "Train Average loss: -4049.6639, Accuracy: 7222/60000 (12%)\n",
      "\n",
      "Validation Average loss: -16615.4100, Accuracy: 1135/10000 (11%)\n",
      "\n",
      "\n",
      "Epoch 1/4\n",
      "----------\n",
      "Train batch: 0 [0/60000 (0%)]\tLoss: -1041113.687500 \taccuracy 10/64 (16%)\n",
      "Train batch: 300 [19200/60000 (32%)]\tLoss: -2342780.000000 \taccuracy 4/64 (6%)\n",
      "Train batch: 600 [38400/60000 (64%)]\tLoss: -4148475.000000 \taccuracy 15/64 (23%)\n",
      "Train batch: 900 [57600/60000 (96%)]\tLoss: -7187124.000000 \taccuracy 4/64 (6%)\n",
      "Train Average loss: -56581.9353, Accuracy: 6742/60000 (11%)\n",
      "\n",
      "Validation Average loss: -116028.8058, Accuracy: 1135/10000 (11%)\n",
      "\n",
      "\n",
      "Epoch 2/4\n",
      "----------\n",
      "Train batch: 0 [0/60000 (0%)]\tLoss: -6965063.000000 \taccuracy 12/64 (19%)\n",
      "Train batch: 300 [19200/60000 (32%)]\tLoss: -10557758.000000 \taccuracy 9/64 (14%)\n",
      "Train batch: 600 [38400/60000 (64%)]\tLoss: -15575640.000000 \taccuracy 5/64 (8%)\n",
      "Train batch: 900 [57600/60000 (96%)]\tLoss: -19822692.000000 \taccuracy 5/64 (8%)\n",
      "Train Average loss: -212270.9380, Accuracy: 6742/60000 (11%)\n",
      "\n",
      "Validation Average loss: -336037.2312, Accuracy: 1135/10000 (11%)\n",
      "\n",
      "\n",
      "Epoch 3/4\n",
      "----------\n",
      "Train batch: 0 [0/60000 (0%)]\tLoss: -20864844.000000 \taccuracy 4/64 (6%)\n",
      "Train batch: 300 [19200/60000 (32%)]\tLoss: -28118404.000000 \taccuracy 6/64 (9%)\n",
      "Train batch: 600 [38400/60000 (64%)]\tLoss: -33978392.000000 \taccuracy 5/64 (8%)\n",
      "Train batch: 900 [57600/60000 (96%)]\tLoss: -42645620.000000 \taccuracy 6/64 (9%)\n",
      "Train Average loss: -496858.8033, Accuracy: 6742/60000 (11%)\n",
      "\n",
      "Validation Average loss: -695389.5964, Accuracy: 1135/10000 (11%)\n",
      "\n",
      "\n",
      "Epoch 4/4\n",
      "----------\n",
      "Train batch: 0 [0/60000 (0%)]\tLoss: -42435864.000000 \taccuracy 8/64 (12%)\n",
      "Train batch: 300 [19200/60000 (32%)]\tLoss: -52237544.000000 \taccuracy 9/64 (14%)\n",
      "Train batch: 600 [38400/60000 (64%)]\tLoss: -61066012.000000 \taccuracy 10/64 (16%)\n",
      "Train batch: 900 [57600/60000 (96%)]\tLoss: -78454344.000000 \taccuracy 8/64 (12%)\n",
      "Train Average loss: -926215.6325, Accuracy: 6742/60000 (11%)\n",
      "\n",
      "Validation Average loss: -1208277.9240, Accuracy: 1135/10000 (11%)\n",
      "\n",
      "\n"
     ]
    }
   ],
   "source": [
    "num_epochs = 5\n",
    "\n",
    "# Loss and optimizer\n",
    "criterion = nn.NLLLoss() # since we are using log_softmax\n",
    "optimizer = optim.Adam(model.parameters(), lr=0.001)\n",
    "\n",
    "# train the network\n",
    "train_loss, train_acc, val_loss, val_acc = train(model, train_loader, test_loader, criterion, optimizer, num_epochs)"
   ]
  },
  {
   "cell_type": "code",
   "execution_count": 51,
   "metadata": {},
   "outputs": [],
   "source": [
    "class MultiLayerCNN(nn.Module):\n",
    "    def __init__(self):\n",
    "        super(MultiLayerCNN, self).__init__()\n",
    "        self.conv1 = nn.Conv2d(1, 10, 5)\n",
    "        self.pool = nn.MaxPool2d(2, 2)\n",
    "        self.conv2 = nn.Conv2d(10, 20, 5)\n",
    "        self.fc = nn.Linear(320,10)\n",
    "\n",
    "    def forward(self, x):\n",
    "        x = self.pool(nn.functional.relu(self.conv1(x)))\n",
    "        x = self.pool(nn.functional.relu(self.conv2(x)))\n",
    "        x = x.view(-1, 320)\n",
    "        x = nn.functional.log_softmax(self.fc(x),dim=1)\n",
    "        return x\n",
    "\n",
    "\n",
    "model = MultiLayerCNN().to(device)"
   ]
  },
  {
   "cell_type": "code",
   "execution_count": 52,
   "metadata": {},
   "outputs": [
    {
     "data": {
      "text/plain": [
       "==========================================================================================\n",
       "Layer (type:depth-idx)                   Output Shape              Param #\n",
       "==========================================================================================\n",
       "MultiLayerCNN                            [1, 10]                   --\n",
       "├─Conv2d: 1-1                            [1, 10, 24, 24]           260\n",
       "├─MaxPool2d: 1-2                         [1, 10, 12, 12]           --\n",
       "├─Conv2d: 1-3                            [1, 20, 8, 8]             5,020\n",
       "├─MaxPool2d: 1-4                         [1, 20, 4, 4]             --\n",
       "├─Linear: 1-5                            [1, 10]                   3,210\n",
       "==========================================================================================\n",
       "Total params: 8,490\n",
       "Trainable params: 8,490\n",
       "Non-trainable params: 0\n",
       "Total mult-adds (M): 0.47\n",
       "==========================================================================================\n",
       "Input size (MB): 0.00\n",
       "Forward/backward pass size (MB): 0.06\n",
       "Params size (MB): 0.03\n",
       "Estimated Total Size (MB): 0.09\n",
       "=========================================================================================="
      ]
     },
     "execution_count": 52,
     "metadata": {},
     "output_type": "execute_result"
    }
   ],
   "source": [
    "\n",
    "summary(copy.deepcopy(model), input_size=(1, 1, 28, 28))"
   ]
  },
  {
   "cell_type": "code",
   "execution_count": 55,
   "metadata": {},
   "outputs": [
    {
     "name": "stdout",
     "output_type": "stream",
     "text": [
      "260\n",
      "5020\n",
      "320\n"
     ]
    }
   ],
   "source": [
    "# number of parameters verification\n",
    "\n",
    "# 10 filters of size 5x5 + 10 bias terms on 1 channel\n",
    "print(10*1*5*5+10)\n",
    "\n",
    "# 20 filters of size 5x5 + 20 bias terms on 10 channels\n",
    "print(20*10*5*5+20)\n",
    "\n",
    "# 320 = 20*4*4\n",
    "print(20*4*4)"
   ]
  },
  {
   "cell_type": "markdown",
   "metadata": {},
   "source": [
    "The number of parameters is just 8490 which is way less than 52K which we saw in 1 layer CNN . This happens because convolutional layers in general have few parameters, independent of the input image size. Also, due to pooling, dimensionality of the image is significantly reduced before applying final dense layer. Small number of parameters have positive impact on our models, because it helps to prevent overfitting even on smaller dataset sizes."
   ]
  }
 ],
 "metadata": {
  "kernelspec": {
   "display_name": "Python 3.10.9 ('torch_2_env')",
   "language": "python",
   "name": "python3"
  },
  "language_info": {
   "codemirror_mode": {
    "name": "ipython",
    "version": 3
   },
   "file_extension": ".py",
   "mimetype": "text/x-python",
   "name": "python",
   "nbconvert_exporter": "python",
   "pygments_lexer": "ipython3",
   "version": "3.10.9"
  },
  "orig_nbformat": 4,
  "vscode": {
   "interpreter": {
    "hash": "8fb8b680fd183c223b836b79cdcb0f2f0334fe2549f7dc1091ef51ac1f51f680"
   }
  }
 },
 "nbformat": 4,
 "nbformat_minor": 2
}
